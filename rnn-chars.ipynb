{
 "cells": [
  {
   "cell_type": "code",
   "execution_count": 1,
   "metadata": {},
   "outputs": [
    {
     "name": "stdout",
     "output_type": "stream",
     "text": [
      "Requirement already satisfied: wikipedia in p:\\users\\moham\\anaconda3\\envs\\tensorflowggpu\\lib\\site-packages (1.4.0)\n",
      "Requirement already satisfied: beautifulsoup4 in p:\\users\\moham\\anaconda3\\envs\\tensorflowggpu\\lib\\site-packages (from wikipedia) (4.12.2)\n",
      "Requirement already satisfied: requests<3.0.0,>=2.0.0 in p:\\users\\moham\\anaconda3\\envs\\tensorflowggpu\\lib\\site-packages (from wikipedia) (2.31.0)\n",
      "Requirement already satisfied: charset-normalizer<4,>=2 in p:\\users\\moham\\anaconda3\\envs\\tensorflowggpu\\lib\\site-packages (from requests<3.0.0,>=2.0.0->wikipedia) (2.0.4)\n",
      "Requirement already satisfied: idna<4,>=2.5 in p:\\users\\moham\\anaconda3\\envs\\tensorflowggpu\\lib\\site-packages (from requests<3.0.0,>=2.0.0->wikipedia) (3.7)\n",
      "Requirement already satisfied: urllib3<3,>=1.21.1 in p:\\users\\moham\\anaconda3\\envs\\tensorflowggpu\\lib\\site-packages (from requests<3.0.0,>=2.0.0->wikipedia) (2.1.0)\n",
      "Requirement already satisfied: certifi>=2017.4.17 in p:\\users\\moham\\anaconda3\\envs\\tensorflowggpu\\lib\\site-packages (from requests<3.0.0,>=2.0.0->wikipedia) (2024.2.2)\n",
      "Requirement already satisfied: soupsieve>1.2 in p:\\users\\moham\\anaconda3\\envs\\tensorflowggpu\\lib\\site-packages (from beautifulsoup4->wikipedia) (2.5)\n",
      "Note: you may need to restart the kernel to use updated packages.\n"
     ]
    },
    {
     "name": "stderr",
     "output_type": "stream",
     "text": [
      "WARNING: Error parsing requirements for scipy: [Errno 2] No such file or directory: 'p:\\\\users\\\\moham\\\\anaconda3\\\\envs\\\\tensorflowggpu\\\\lib\\\\site-packages\\\\scipy-1.13.0.dist-info\\\\METADATA'\n"
     ]
    }
   ],
   "source": [
    "pip install wikipedia"
   ]
  },
  {
   "cell_type": "code",
   "execution_count": 4,
   "metadata": {},
   "outputs": [
    {
     "name": "stdout",
     "output_type": "stream",
     "text": [
      "Page 'Machine learning' does not exist.\n",
      "Page 'Decision tree' does not exist.\n",
      "Page 'Computer vision' does not exist.\n",
      "Combined Content:\n",
      "Deep learning is the subset of machine learning methods based on neural networks with representation learning. The adjective \"deep\" refers to the use of multiple layers in the network. Methods used can be either supervised, semi-supervised or unsupervised.\n",
      "Deep-learning architectures such as deep neural networks, deep belief networks, recurrent neural networks, convolutional neural networks and transformers have been applied to fields including computer vision, speech recognition, natural langua\n"
     ]
    }
   ],
   "source": [
    "import wikipedia\n",
    "\n",
    "# Set a custom user agent to comply with Wikipedia's policy\n",
    "wikipedia.set_user_agent(\"My Wikipedia Scraping Bot (youremail@example.com)\")\n",
    "\n",
    "# Corrected list of Wikipedia page titles\n",
    "page_titles = [\n",
    "    \"Machine learning\",\n",
    "    \"Deep learning\",\n",
    "    \"Natural language processing\",\n",
    "    \"Recurrent neural network\",\n",
    "    \"Convolutional neural network\",\n",
    "    \"Artificial intelligence\",\n",
    "    \"Data science\",\n",
    "    \"Supervised learning\",\n",
    "    \"Unsupervised learning\",\n",
    "    \"Reinforcement learning\",\n",
    "    \"Support vector machine\",\n",
    "    \"Decision tree\",\n",
    "    \"Neural network\",\n",
    "    \"Gradient boosting\",\n",
    "    \"Cluster analysis\",  \n",
    "    \"Random forest\",\n",
    "    \"Dimensionality reduction\",\n",
    "    \"Computer vision\",\n",
    "    \"Transfer learning\",\n",
    "    \"Anomaly detection\"\n",
    "]\n",
    "\n",
    "# Dictionary to store page titles and their content\n",
    "documents = {}\n",
    "\n",
    "# Number of pages to fetch for each document topic\n",
    "num_pages_per_topic = 10\n",
    "\n",
    "# Fetch content for each page\n",
    "for title in page_titles:\n",
    "    try:\n",
    "        # Fetch the page content\n",
    "        pages = wikipedia.search(title, results=num_pages_per_topic, suggestion=False)\n",
    "        \n",
    "        # Verify if the search result matches the desired title\n",
    "        matched_pages = [page for page in pages if page.lower() == title.lower()]\n",
    "        if not matched_pages:\n",
    "            print(f\"Page '{title}' does not exist.\")\n",
    "            continue\n",
    "\n",
    "        # Store the title and content in the dictionary\n",
    "        documents[title] = \"\\n\".join([wikipedia.page(page).content for page in matched_pages])\n",
    "    except wikipedia.exceptions.PageError:\n",
    "        print(f\"Page '{title}' does not exist.\")\n",
    "    except wikipedia.exceptions.DisambiguationError as e:\n",
    "        print(f\"Page '{title}' is a disambiguation page. Skipping.\")\n",
    "\n",
    "# Combine all content into one string\n",
    "all_content = \"\\n\".join(documents.values())\n",
    "\n",
    "# Print the combined content\n",
    "print(\"Combined Content:\")\n",
    "print(all_content[:500])  # Print only the first 500 characters for demonstration\n"
   ]
  },
  {
   "cell_type": "code",
   "execution_count": 5,
   "metadata": {},
   "outputs": [
    {
     "data": {
      "text/plain": [
       "598254"
      ]
     },
     "execution_count": 5,
     "metadata": {},
     "output_type": "execute_result"
    }
   ],
   "source": [
    "len(all_content)"
   ]
  },
  {
   "cell_type": "code",
   "execution_count": 30,
   "metadata": {},
   "outputs": [],
   "source": [
    "import re\n",
    "import numpy as np\n",
    "import nltk\n",
    "import spacy\n",
    "\n",
    "import matplotlib.pyplot as plt\n",
    "\n",
    "from spacy.cli import download\n",
    "from spacy import load\n",
    "import warnings\n",
    "\n",
    "import nltk\n",
    "from nltk.tokenize import word_tokenize, sent_tokenize\n",
    "from nltk.corpus import stopwords\n",
    "from nltk.stem import WordNetLemmatizer\n",
    "from nltk.stem import PorterStemmer"
   ]
  },
  {
   "cell_type": "code",
   "execution_count": 31,
   "metadata": {},
   "outputs": [
    {
     "name": "stderr",
     "output_type": "stream",
     "text": [
      "[nltk_data] Downloading package punkt to\n",
      "[nltk_data]     C:\\Users\\moham\\AppData\\Roaming\\nltk_data...\n",
      "[nltk_data]   Package punkt is already up-to-date!\n",
      "[nltk_data] Downloading package stopwords to\n",
      "[nltk_data]     C:\\Users\\moham\\AppData\\Roaming\\nltk_data...\n",
      "[nltk_data]   Package stopwords is already up-to-date!\n",
      "[nltk_data] Downloading package omw-1.4 to\n",
      "[nltk_data]     C:\\Users\\moham\\AppData\\Roaming\\nltk_data...\n",
      "[nltk_data]   Package omw-1.4 is already up-to-date!\n",
      "[nltk_data] Downloading package wordnet2022 to\n",
      "[nltk_data]     C:\\Users\\moham\\AppData\\Roaming\\nltk_data...\n",
      "[nltk_data]   Package wordnet2022 is already up-to-date!\n"
     ]
    },
    {
     "data": {
      "text/plain": [
       "True"
      ]
     },
     "execution_count": 31,
     "metadata": {},
     "output_type": "execute_result"
    }
   ],
   "source": [
    "import nltk\n",
    "\n",
    "nltk.download('punkt')\n",
    "\n",
    "nltk.download('stopwords')\n",
    "nltk.download('omw-1.4')\n",
    "nltk.download('wordnet2022')"
   ]
  },
  {
   "cell_type": "code",
   "execution_count": 13,
   "metadata": {},
   "outputs": [],
   "source": [
    "class preprocessing:\n",
    "    def __init__(self,text):\n",
    "        self.text=text\n",
    "        self.words=None\n",
    "    def clear(self):\n",
    "        clean = re.compile('<.*?>')\n",
    "        self.text =  re.sub(clean, '', self.text)\n",
    "        self.text= re.sub(r\"[^a-zA-Z]\",\" \",self.text)\n",
    "        self.text = re.sub(r'\\s+', ' ', self.text)\n",
    "    def Normalization(self):\n",
    "        self.text=self.text.lower()\n",
    "#         print(self.text)\n",
    "    def Tokenization(self):\n",
    "        self.words = word_tokenize(self.text)\n",
    "#         print(self.words)\n",
    "    def del_stop_words(self):\n",
    "        stop_words = set(stopwords.words('english'))\n",
    "        self.words=[word for word in self.words if (word not in stop_words)]\n",
    "        \n",
    "    def stemming(self):\n",
    "        stemmer = PorterStemmer()\n",
    "        self.words = [stemmer.stem(word) for word in self.words]\n",
    "    def unique_words(self):\n",
    "        self.words = list(set(self.words))\n",
    "        return self.words\n",
    "    def return_string(self):\n",
    "        return ' '.join(self.words)\n",
    "    def del_char (self):\n",
    "        self.words=[word for word in self.words if (len(word)>1)]\n",
    "        return self.words"
   ]
  },
  {
   "cell_type": "code",
   "execution_count": 14,
   "metadata": {},
   "outputs": [],
   "source": [
    "def clean_document (document):\n",
    "    cleaner = preprocessing(document)\n",
    "    cleaner.clear()\n",
    "    cleaner.Tokenization()\n",
    "    cleaner.Normalization()\n",
    "    cleaner.del_stop_words()\n",
    "    cleaner.stemming()\n",
    "    cleaner.del_char()\n",
    "    output = cleaner.return_string()\n",
    "    return output"
   ]
  },
  {
   "cell_type": "code",
   "execution_count": 15,
   "metadata": {},
   "outputs": [],
   "source": [
    "clear = clean_document(all_content)"
   ]
  },
  {
   "cell_type": "code",
   "execution_count": 16,
   "metadata": {},
   "outputs": [
    {
     "data": {
      "text/plain": [
       "'deep learn subset machin learn method base neural network represent learn the adject deep refer use multipl layer network method use either supervis semi supervis unsupervis deep learn architectur deep neural network deep belief network recurr neural network convolut neural network transform appli field includ comput vision speech recognit natur languag process machin translat bioinformat drug design medic imag analysi climat scienc materi inspect board game program produc result compar case surpass human expert perform earli form neural network inspir inform process distribut commun node biolog system particular human brain howev current neural network intend model brain function organ gener seen low qualiti model purpos overview most modern deep learn model base multi layer neural network convolut neural network transform although also includ proposit formula latent variabl organ layer wise deep gener model node deep belief network deep boltzmann machin fundament deep learn refer class machin learn algorithm hierarchi layer use transform input data slightli abstract composit represent for exampl imag recognit model raw input may imag repres tensor pixel the first represent layer may attempt identifi basic shape line circl second layer may compos encod arrang edg third layer may encod nose eye fourth layer may recogn imag contain face importantli deep learn process learn featur optim place level prior deep learn machin learn techniqu often involv hand craft featur engin tran'"
      ]
     },
     "execution_count": 16,
     "metadata": {},
     "output_type": "execute_result"
    }
   ],
   "source": [
    "clear[:1500]"
   ]
  },
  {
   "cell_type": "code",
   "execution_count": 17,
   "metadata": {},
   "outputs": [],
   "source": [
    "chars = sorted(set(clear))  # Unique characters in input text\n",
    "chars_to_indices = dict((c, i) for i, c in enumerate(chars))  # Character to index mapping\n",
    "indices_to_chars = dict((i, c) for i, c in enumerate(chars))  # Index to character mapping\n"
   ]
  },
  {
   "cell_type": "code",
   "execution_count": 18,
   "metadata": {},
   "outputs": [
    {
     "data": {
      "text/plain": [
       "{0: ' ',\n",
       " 1: 'a',\n",
       " 2: 'b',\n",
       " 3: 'c',\n",
       " 4: 'd',\n",
       " 5: 'e',\n",
       " 6: 'f',\n",
       " 7: 'g',\n",
       " 8: 'h',\n",
       " 9: 'i',\n",
       " 10: 'j',\n",
       " 11: 'k',\n",
       " 12: 'l',\n",
       " 13: 'm',\n",
       " 14: 'n',\n",
       " 15: 'o',\n",
       " 16: 'p',\n",
       " 17: 'q',\n",
       " 18: 'r',\n",
       " 19: 's',\n",
       " 20: 't',\n",
       " 21: 'u',\n",
       " 22: 'v',\n",
       " 23: 'w',\n",
       " 24: 'x',\n",
       " 25: 'y',\n",
       " 26: 'z'}"
      ]
     },
     "execution_count": 18,
     "metadata": {},
     "output_type": "execute_result"
    }
   ],
   "source": [
    "indices_to_chars"
   ]
  },
  {
   "cell_type": "code",
   "execution_count": 19,
   "metadata": {},
   "outputs": [],
   "source": [
    "maxlen = 5  # Maximum length of input sequence\n",
    "step = 3  # Step size for creating input sequences\n",
    "sentences = []  # List to store input sequences\n",
    "next_chars = []  # List to store next characters"
   ]
  },
  {
   "cell_type": "code",
   "execution_count": 20,
   "metadata": {},
   "outputs": [],
   "source": [
    "for i in range(0, len(clear) - maxlen, step):\n",
    "    sentences.append(clear[i:i + maxlen])\n",
    "    next_chars.append(clear[i + maxlen])"
   ]
  },
  {
   "cell_type": "code",
   "execution_count": 21,
   "metadata": {},
   "outputs": [
    {
     "data": {
      "text/plain": [
       "['deep ', 'p lea', 'earn ', 'n sub', 'ubset']"
      ]
     },
     "execution_count": 21,
     "metadata": {},
     "output_type": "execute_result"
    }
   ],
   "source": [
    "sentences[:5]"
   ]
  },
  {
   "cell_type": "code",
   "execution_count": 22,
   "metadata": {},
   "outputs": [],
   "source": [
    "x_char = np.zeros((len(sentences), maxlen, len(chars)), dtype=bool)  # Initialize input data tensor\n",
    "y_char = np.zeros((len(sentences), len(chars)), dtype=bool)  # Initialize target data tensor\n"
   ]
  },
  {
   "cell_type": "code",
   "execution_count": 23,
   "metadata": {},
   "outputs": [],
   "source": [
    "for i, sentence in enumerate(sentences):\n",
    "    for t, char in enumerate(sentence):\n",
    "        x_char[i, t, chars_to_indices[char]] = 1\n",
    "    y_char[i, chars_to_indices[next_chars[i]]] = 1"
   ]
  },
  {
   "cell_type": "code",
   "execution_count": 24,
   "metadata": {},
   "outputs": [],
   "source": [
    "from sklearn.model_selection import train_test_split\n",
    "x_train, x_test, y_train, y_test = train_test_split(x_char, y_char, test_size=0.2, random_state=42)\n"
   ]
  },
  {
   "cell_type": "code",
   "execution_count": 25,
   "metadata": {},
   "outputs": [],
   "source": [
    "import tensorflow as tf "
   ]
  },
  {
   "cell_type": "code",
   "execution_count": 26,
   "metadata": {},
   "outputs": [],
   "source": [
    "from tensorflow.keras.layers import Dense, SimpleRNN\n"
   ]
  },
  {
   "cell_type": "code",
   "execution_count": 36,
   "metadata": {},
   "outputs": [
    {
     "name": "stdout",
     "output_type": "stream",
     "text": [
      "WARNING:tensorflow:Layer lstm_4 will not use cuDNN kernels since it doesn't meet the criteria. It will use a generic GPU kernel as fallback when running on GPU.\n",
      "WARNING:tensorflow:Layer lstm_5 will not use cuDNN kernels since it doesn't meet the criteria. It will use a generic GPU kernel as fallback when running on GPU.\n",
      "WARNING:tensorflow:Layer lstm_6 will not use cuDNN kernels since it doesn't meet the criteria. It will use a generic GPU kernel as fallback when running on GPU.\n",
      "Model: \"sequential_2\"\n",
      "_________________________________________________________________\n",
      " Layer (type)                Output Shape              Param #   \n",
      "=================================================================\n",
      " lstm_4 (LSTM)               (None, 5, 256)            290816    \n",
      "                                                                 \n",
      " lstm_5 (LSTM)               (None, 5, 256)            525312    \n",
      "                                                                 \n",
      " lstm_6 (LSTM)               (None, 256)               525312    \n",
      "                                                                 \n",
      " dense_2 (Dense)             (None, 27)                6939      \n",
      "                                                                 \n",
      "=================================================================\n",
      "Total params: 1,348,379\n",
      "Trainable params: 1,348,379\n",
      "Non-trainable params: 0\n",
      "_________________________________________________________________\n",
      "Epoch 1/100\n",
      "628/628 [==============================] - 49s 71ms/step - loss: 2.7407 - accuracy: 0.1992 - val_loss: 2.3832 - val_accuracy: 0.2882\n",
      "Epoch 2/100\n",
      "628/628 [==============================] - 41s 65ms/step - loss: 2.2485 - accuracy: 0.3190 - val_loss: 1.9163 - val_accuracy: 0.4157\n",
      "Epoch 3/100\n",
      "628/628 [==============================] - 43s 68ms/step - loss: 1.9125 - accuracy: 0.4199 - val_loss: 1.6626 - val_accuracy: 0.4998\n",
      "Epoch 4/100\n",
      "628/628 [==============================] - 43s 69ms/step - loss: 1.6944 - accuracy: 0.4844 - val_loss: 1.5143 - val_accuracy: 0.5405\n",
      "Epoch 5/100\n",
      "628/628 [==============================] - 43s 69ms/step - loss: 1.5542 - accuracy: 0.5245 - val_loss: 1.4345 - val_accuracy: 0.5638\n",
      "Epoch 6/100\n",
      "628/628 [==============================] - 42s 68ms/step - loss: 1.4631 - accuracy: 0.5499 - val_loss: 1.3800 - val_accuracy: 0.5779\n",
      "Epoch 7/100\n",
      "628/628 [==============================] - 43s 68ms/step - loss: 1.3989 - accuracy: 0.5659 - val_loss: 1.3473 - val_accuracy: 0.5867\n",
      "Epoch 8/100\n",
      "628/628 [==============================] - 42s 67ms/step - loss: 1.3476 - accuracy: 0.5823 - val_loss: 1.3297 - val_accuracy: 0.5946\n",
      "Epoch 9/100\n",
      "628/628 [==============================] - 41s 66ms/step - loss: 1.3093 - accuracy: 0.5897 - val_loss: 1.3151 - val_accuracy: 0.5954\n",
      "Epoch 10/100\n",
      "628/628 [==============================] - 40s 64ms/step - loss: 1.2821 - accuracy: 0.5968 - val_loss: 1.3027 - val_accuracy: 0.6004\n",
      "Epoch 11/100\n",
      "628/628 [==============================] - 41s 65ms/step - loss: 1.2520 - accuracy: 0.6065 - val_loss: 1.2969 - val_accuracy: 0.6039\n",
      "Epoch 12/100\n",
      "628/628 [==============================] - 45s 72ms/step - loss: 1.2299 - accuracy: 0.6107 - val_loss: 1.2948 - val_accuracy: 0.6069\n",
      "Epoch 13/100\n",
      "628/628 [==============================] - 43s 68ms/step - loss: 1.2101 - accuracy: 0.6156 - val_loss: 1.2852 - val_accuracy: 0.6059\n",
      "Epoch 14/100\n",
      "628/628 [==============================] - 42s 66ms/step - loss: 1.1924 - accuracy: 0.6202 - val_loss: 1.2836 - val_accuracy: 0.6060\n",
      "Epoch 15/100\n",
      "628/628 [==============================] - 43s 68ms/step - loss: 1.1763 - accuracy: 0.6228 - val_loss: 1.2887 - val_accuracy: 0.6069\n",
      "Epoch 16/100\n",
      "628/628 [==============================] - 41s 65ms/step - loss: 1.1603 - accuracy: 0.6272 - val_loss: 1.2890 - val_accuracy: 0.6092\n",
      "Epoch 17/100\n",
      "628/628 [==============================] - 42s 67ms/step - loss: 1.1436 - accuracy: 0.6336 - val_loss: 1.2911 - val_accuracy: 0.6101\n",
      "Epoch 18/100\n",
      "628/628 [==============================] - 42s 66ms/step - loss: 1.1325 - accuracy: 0.6354 - val_loss: 1.2868 - val_accuracy: 0.6086\n",
      "Epoch 19/100\n",
      "628/628 [==============================] - 44s 70ms/step - loss: 1.1192 - accuracy: 0.6408 - val_loss: 1.2891 - val_accuracy: 0.6099\n",
      "Epoch 20/100\n",
      "628/628 [==============================] - 41s 66ms/step - loss: 1.1081 - accuracy: 0.6412 - val_loss: 1.2918 - val_accuracy: 0.6127\n",
      "Epoch 21/100\n",
      "628/628 [==============================] - 42s 68ms/step - loss: 1.0939 - accuracy: 0.6456 - val_loss: 1.2961 - val_accuracy: 0.6117\n",
      "Epoch 22/100\n",
      "628/628 [==============================] - 41s 65ms/step - loss: 1.0872 - accuracy: 0.6469 - val_loss: 1.3019 - val_accuracy: 0.6128\n",
      "Epoch 23/100\n",
      "628/628 [==============================] - 39s 62ms/step - loss: 1.0770 - accuracy: 0.6508 - val_loss: 1.3084 - val_accuracy: 0.6096\n",
      "Epoch 24/100\n",
      "628/628 [==============================] - 41s 66ms/step - loss: 1.0679 - accuracy: 0.6525 - val_loss: 1.3121 - val_accuracy: 0.6101\n",
      "Epoch 25/100\n",
      "628/628 [==============================] - 42s 66ms/step - loss: 1.0581 - accuracy: 0.6545 - val_loss: 1.3099 - val_accuracy: 0.6116\n",
      "Epoch 26/100\n",
      "628/628 [==============================] - 43s 69ms/step - loss: 1.0477 - accuracy: 0.6593 - val_loss: 1.3178 - val_accuracy: 0.6132\n",
      "Epoch 27/100\n",
      "628/628 [==============================] - 43s 68ms/step - loss: 1.0451 - accuracy: 0.6584 - val_loss: 1.3215 - val_accuracy: 0.6088\n",
      "Epoch 28/100\n",
      "628/628 [==============================] - 42s 66ms/step - loss: 1.0316 - accuracy: 0.6627 - val_loss: 1.3253 - val_accuracy: 0.6129\n",
      "Epoch 29/100\n",
      "628/628 [==============================] - 43s 69ms/step - loss: 1.0288 - accuracy: 0.6631 - val_loss: 1.3287 - val_accuracy: 0.6120\n",
      "Epoch 30/100\n",
      "628/628 [==============================] - 42s 67ms/step - loss: 1.0224 - accuracy: 0.6655 - val_loss: 1.3294 - val_accuracy: 0.6127\n",
      "Epoch 31/100\n",
      "628/628 [==============================] - 43s 68ms/step - loss: 1.0149 - accuracy: 0.6670 - val_loss: 1.3360 - val_accuracy: 0.6072\n",
      "Epoch 32/100\n",
      "628/628 [==============================] - 44s 70ms/step - loss: 1.0120 - accuracy: 0.6676 - val_loss: 1.3444 - val_accuracy: 0.6103\n",
      "Epoch 33/100\n",
      "628/628 [==============================] - 39s 62ms/step - loss: 1.0005 - accuracy: 0.6705 - val_loss: 1.3491 - val_accuracy: 0.6121\n",
      "Epoch 34/100\n",
      "628/628 [==============================] - 43s 68ms/step - loss: 0.9948 - accuracy: 0.6731 - val_loss: 1.3496 - val_accuracy: 0.6109\n",
      "Epoch 35/100\n",
      "628/628 [==============================] - 42s 67ms/step - loss: 0.9937 - accuracy: 0.6721 - val_loss: 1.3542 - val_accuracy: 0.6096\n",
      "Epoch 36/100\n",
      "628/628 [==============================] - 42s 67ms/step - loss: 0.9863 - accuracy: 0.6743 - val_loss: 1.3586 - val_accuracy: 0.6117\n",
      "Epoch 37/100\n",
      "628/628 [==============================] - 42s 67ms/step - loss: 0.9839 - accuracy: 0.6752 - val_loss: 1.3642 - val_accuracy: 0.6109\n",
      "Epoch 38/100\n",
      "628/628 [==============================] - 42s 67ms/step - loss: 0.9795 - accuracy: 0.6756 - val_loss: 1.3725 - val_accuracy: 0.6112\n",
      "Epoch 39/100\n",
      "628/628 [==============================] - 41s 66ms/step - loss: 0.9739 - accuracy: 0.6765 - val_loss: 1.3723 - val_accuracy: 0.6113\n",
      "Epoch 40/100\n",
      "628/628 [==============================] - 42s 67ms/step - loss: 0.9672 - accuracy: 0.6789 - val_loss: 1.3703 - val_accuracy: 0.6123\n",
      "Epoch 41/100\n",
      "628/628 [==============================] - 42s 67ms/step - loss: 0.9614 - accuracy: 0.6812 - val_loss: 1.3777 - val_accuracy: 0.6106\n",
      "Epoch 42/100\n",
      "628/628 [==============================] - 42s 66ms/step - loss: 0.9586 - accuracy: 0.6828 - val_loss: 1.3842 - val_accuracy: 0.6108\n",
      "Epoch 43/100\n",
      "628/628 [==============================] - 44s 70ms/step - loss: 0.9555 - accuracy: 0.6830 - val_loss: 1.3901 - val_accuracy: 0.6085\n",
      "Epoch 44/100\n",
      "628/628 [==============================] - 40s 64ms/step - loss: 0.9508 - accuracy: 0.6849 - val_loss: 1.3881 - val_accuracy: 0.6141\n",
      "Epoch 45/100\n",
      "628/628 [==============================] - 40s 63ms/step - loss: 0.9457 - accuracy: 0.6859 - val_loss: 1.3930 - val_accuracy: 0.6101\n",
      "Epoch 46/100\n",
      "628/628 [==============================] - 40s 63ms/step - loss: 0.9435 - accuracy: 0.6861 - val_loss: 1.3996 - val_accuracy: 0.6074\n",
      "Epoch 47/100\n",
      "628/628 [==============================] - 43s 68ms/step - loss: 0.9423 - accuracy: 0.6879 - val_loss: 1.4067 - val_accuracy: 0.6100\n",
      "Epoch 48/100\n",
      "628/628 [==============================] - 43s 68ms/step - loss: 0.9368 - accuracy: 0.6880 - val_loss: 1.4031 - val_accuracy: 0.6101\n",
      "Epoch 49/100\n",
      "628/628 [==============================] - 43s 68ms/step - loss: 0.9346 - accuracy: 0.6889 - val_loss: 1.4164 - val_accuracy: 0.6085\n",
      "Epoch 50/100\n",
      "628/628 [==============================] - 45s 72ms/step - loss: 0.9351 - accuracy: 0.6872 - val_loss: 1.4152 - val_accuracy: 0.6089\n",
      "Epoch 51/100\n",
      "628/628 [==============================] - 44s 70ms/step - loss: 0.9278 - accuracy: 0.6914 - val_loss: 1.4170 - val_accuracy: 0.6084\n",
      "Epoch 52/100\n",
      "628/628 [==============================] - 41s 64ms/step - loss: 0.9270 - accuracy: 0.6884 - val_loss: 1.4242 - val_accuracy: 0.6037\n",
      "Epoch 53/100\n",
      "628/628 [==============================] - 45s 71ms/step - loss: 0.9230 - accuracy: 0.6924 - val_loss: 1.4214 - val_accuracy: 0.6083\n",
      "Epoch 54/100\n",
      "628/628 [==============================] - 41s 65ms/step - loss: 0.9203 - accuracy: 0.6934 - val_loss: 1.4341 - val_accuracy: 0.6083\n",
      "Epoch 55/100\n",
      "628/628 [==============================] - 42s 67ms/step - loss: 0.9213 - accuracy: 0.6914 - val_loss: 1.4307 - val_accuracy: 0.6090\n",
      "Epoch 56/100\n",
      "628/628 [==============================] - 45s 71ms/step - loss: 0.9210 - accuracy: 0.6921 - val_loss: 1.4391 - val_accuracy: 0.6046\n",
      "Epoch 57/100\n",
      "628/628 [==============================] - 44s 70ms/step - loss: 0.9119 - accuracy: 0.6945 - val_loss: 1.4319 - val_accuracy: 0.6091\n",
      "Epoch 58/100\n",
      "628/628 [==============================] - 41s 65ms/step - loss: 0.9107 - accuracy: 0.6947 - val_loss: 1.4361 - val_accuracy: 0.6067\n",
      "Epoch 59/100\n",
      "628/628 [==============================] - 41s 65ms/step - loss: 0.9092 - accuracy: 0.6954 - val_loss: 1.4366 - val_accuracy: 0.6077\n",
      "Epoch 60/100\n",
      "628/628 [==============================] - 42s 67ms/step - loss: 0.9048 - accuracy: 0.6969 - val_loss: 1.4441 - val_accuracy: 0.6076\n",
      "Epoch 61/100\n",
      "628/628 [==============================] - 41s 66ms/step - loss: 0.9039 - accuracy: 0.6981 - val_loss: 1.4496 - val_accuracy: 0.6083\n",
      "Epoch 62/100\n",
      "628/628 [==============================] - 43s 68ms/step - loss: 0.9006 - accuracy: 0.6964 - val_loss: 1.4516 - val_accuracy: 0.6077\n",
      "Epoch 63/100\n",
      "628/628 [==============================] - 42s 66ms/step - loss: 0.9004 - accuracy: 0.6978 - val_loss: 1.4504 - val_accuracy: 0.6066\n",
      "Epoch 64/100\n",
      "628/628 [==============================] - 45s 71ms/step - loss: 0.8969 - accuracy: 0.7001 - val_loss: 1.4500 - val_accuracy: 0.6070\n",
      "Epoch 65/100\n",
      "628/628 [==============================] - 42s 67ms/step - loss: 0.8933 - accuracy: 0.6996 - val_loss: 1.4592 - val_accuracy: 0.6069\n",
      "Epoch 66/100\n",
      "628/628 [==============================] - 40s 64ms/step - loss: 0.8949 - accuracy: 0.6979 - val_loss: 1.4588 - val_accuracy: 0.6051\n",
      "Epoch 67/100\n",
      "628/628 [==============================] - 42s 67ms/step - loss: 0.8946 - accuracy: 0.6995 - val_loss: 1.4630 - val_accuracy: 0.6070\n",
      "Epoch 68/100\n",
      "628/628 [==============================] - 43s 68ms/step - loss: 0.8888 - accuracy: 0.7026 - val_loss: 1.4719 - val_accuracy: 0.6035\n",
      "Epoch 69/100\n",
      "628/628 [==============================] - 45s 71ms/step - loss: 0.8884 - accuracy: 0.7010 - val_loss: 1.4701 - val_accuracy: 0.6068\n",
      "Epoch 70/100\n",
      "628/628 [==============================] - 43s 69ms/step - loss: 0.8878 - accuracy: 0.7003 - val_loss: 1.4706 - val_accuracy: 0.6067\n",
      "Epoch 71/100\n",
      "628/628 [==============================] - 40s 64ms/step - loss: 0.8862 - accuracy: 0.7022 - val_loss: 1.4676 - val_accuracy: 0.6081\n",
      "Epoch 72/100\n",
      "628/628 [==============================] - 42s 66ms/step - loss: 0.8831 - accuracy: 0.7021 - val_loss: 1.4690 - val_accuracy: 0.6092\n",
      "Epoch 73/100\n",
      "628/628 [==============================] - 42s 66ms/step - loss: 0.8815 - accuracy: 0.7031 - val_loss: 1.4758 - val_accuracy: 0.6100\n",
      "Epoch 74/100\n",
      "628/628 [==============================] - 43s 69ms/step - loss: 0.8808 - accuracy: 0.7034 - val_loss: 1.4782 - val_accuracy: 0.6072\n",
      "Epoch 75/100\n",
      "628/628 [==============================] - 41s 66ms/step - loss: 0.8816 - accuracy: 0.7026 - val_loss: 1.4792 - val_accuracy: 0.6071\n",
      "Epoch 76/100\n",
      "628/628 [==============================] - 40s 63ms/step - loss: 0.8820 - accuracy: 0.7028 - val_loss: 1.4801 - val_accuracy: 0.6062\n",
      "Epoch 77/100\n",
      "628/628 [==============================] - 41s 65ms/step - loss: 0.8754 - accuracy: 0.7043 - val_loss: 1.4838 - val_accuracy: 0.6074\n",
      "Epoch 78/100\n",
      "628/628 [==============================] - 41s 66ms/step - loss: 0.8737 - accuracy: 0.7056 - val_loss: 1.4929 - val_accuracy: 0.6068\n",
      "Epoch 79/100\n",
      "628/628 [==============================] - 42s 67ms/step - loss: 0.8760 - accuracy: 0.7054 - val_loss: 1.4969 - val_accuracy: 0.6038\n",
      "Epoch 80/100\n",
      "628/628 [==============================] - 42s 67ms/step - loss: 0.8734 - accuracy: 0.7037 - val_loss: 1.4940 - val_accuracy: 0.6050\n",
      "Epoch 81/100\n",
      "628/628 [==============================] - 42s 67ms/step - loss: 0.8711 - accuracy: 0.7069 - val_loss: 1.4974 - val_accuracy: 0.6047\n",
      "Epoch 82/100\n",
      "628/628 [==============================] - 42s 68ms/step - loss: 0.8697 - accuracy: 0.7058 - val_loss: 1.4982 - val_accuracy: 0.6033\n",
      "Epoch 83/100\n",
      "628/628 [==============================] - 42s 67ms/step - loss: 0.8656 - accuracy: 0.7060 - val_loss: 1.5047 - val_accuracy: 0.6031\n",
      "Epoch 84/100\n",
      "628/628 [==============================] - 42s 67ms/step - loss: 0.8632 - accuracy: 0.7084 - val_loss: 1.5067 - val_accuracy: 0.6032\n",
      "Epoch 85/100\n",
      "628/628 [==============================] - 41s 66ms/step - loss: 0.8655 - accuracy: 0.7054 - val_loss: 1.5150 - val_accuracy: 0.6042\n",
      "Epoch 86/100\n",
      "628/628 [==============================] - 43s 68ms/step - loss: 0.8667 - accuracy: 0.7076 - val_loss: 1.5121 - val_accuracy: 0.6046\n",
      "Epoch 87/100\n",
      "628/628 [==============================] - 43s 68ms/step - loss: 0.8613 - accuracy: 0.7093 - val_loss: 1.5177 - val_accuracy: 0.6019\n",
      "Epoch 88/100\n",
      "628/628 [==============================] - 55s 87ms/step - loss: 0.8624 - accuracy: 0.7082 - val_loss: 1.5150 - val_accuracy: 0.6032\n",
      "Epoch 89/100\n",
      "628/628 [==============================] - 69s 110ms/step - loss: 0.8584 - accuracy: 0.7090 - val_loss: 1.5127 - val_accuracy: 0.6032\n",
      "Epoch 90/100\n",
      "628/628 [==============================] - 71s 113ms/step - loss: 0.8627 - accuracy: 0.7085 - val_loss: 1.5148 - val_accuracy: 0.6033\n",
      "Epoch 91/100\n",
      "628/628 [==============================] - 74s 117ms/step - loss: 0.8596 - accuracy: 0.7078 - val_loss: 1.5237 - val_accuracy: 0.6034\n",
      "Epoch 92/100\n",
      "628/628 [==============================] - 74s 118ms/step - loss: 0.8547 - accuracy: 0.7087 - val_loss: 1.5258 - val_accuracy: 0.6007\n",
      "Epoch 93/100\n",
      "628/628 [==============================] - 73s 115ms/step - loss: 0.8555 - accuracy: 0.7099 - val_loss: 1.5212 - val_accuracy: 0.6018\n",
      "Epoch 94/100\n",
      "628/628 [==============================] - 70s 111ms/step - loss: 0.8537 - accuracy: 0.7102 - val_loss: 1.5256 - val_accuracy: 0.6014\n",
      "Epoch 95/100\n",
      "628/628 [==============================] - 69s 110ms/step - loss: 0.8547 - accuracy: 0.7092 - val_loss: 1.5277 - val_accuracy: 0.6011\n",
      "Epoch 96/100\n",
      "628/628 [==============================] - 68s 109ms/step - loss: 0.8536 - accuracy: 0.7108 - val_loss: 1.5222 - val_accuracy: 0.6045\n",
      "Epoch 97/100\n",
      "628/628 [==============================] - 69s 110ms/step - loss: 0.8530 - accuracy: 0.7118 - val_loss: 1.5266 - val_accuracy: 0.6061\n",
      "Epoch 98/100\n",
      "628/628 [==============================] - 67s 107ms/step - loss: 0.8490 - accuracy: 0.7126 - val_loss: 1.5356 - val_accuracy: 0.6018\n",
      "Epoch 99/100\n",
      "628/628 [==============================] - 66s 106ms/step - loss: 0.8520 - accuracy: 0.7096 - val_loss: 1.5332 - val_accuracy: 0.6013\n",
      "Epoch 100/100\n",
      "628/628 [==============================] - 67s 106ms/step - loss: 0.8526 - accuracy: 0.7095 - val_loss: 1.5320 - val_accuracy: 0.6028\n"
     ]
    }
   ],
   "source": [
    "# Define a more complex LSTM model with additional layers and regularization\n",
    "model_complex_lstm = tf.keras.Sequential([\n",
    "    tf.keras.layers.LSTM(256, return_sequences=True, input_shape=(maxlen, len(chars)), dropout=0.2, recurrent_dropout=0.2),\n",
    "    tf.keras.layers.LSTM(256, return_sequences=True, dropout=0.2, recurrent_dropout=0.2),\n",
    "    tf.keras.layers.LSTM(256, dropout=0.2, recurrent_dropout=0.2),\n",
    "    tf.keras.layers.Dense(len(chars), activation='softmax')\n",
    "])\n",
    "\n",
    "# Compile the model\n",
    "model_complex_lstm.compile(\n",
    "    loss='categorical_crossentropy',\n",
    "    optimizer='adam',\n",
    "    metrics=['accuracy']\n",
    ")\n",
    "\n",
    "# Summary of the complex LSTM model\n",
    "model_complex_lstm.summary()\n",
    "\n",
    "# Train the complex LSTM model\n",
    "history_complex_lstm = model_complex_lstm.fit(x_train, y_train, batch_size=128, epochs=100, validation_data=(x_test, y_test))\n"
   ]
  },
  {
   "cell_type": "code",
   "execution_count": 37,
   "metadata": {},
   "outputs": [
    {
     "data": {
      "image/png": "[encoded data removed]",
      "text/plain": [
       "<Figure size 640x480 with 1 Axes>"
      ]
     },
     "metadata": {},
     "output_type": "display_data"
    },
    {
     "data": {
      "image/png": "[encoded data removed]",
      "text/plain": [
       "<Figure size 640x480 with 1 Axes>"
      ]
     },
     "metadata": {},
     "output_type": "display_data"
    }
   ],
   "source": [
    "# Plot accuracy\n",
    "plt.plot(history_complex_lstm.history['accuracy'])\n",
    "plt.plot(history_complex_lstm.history['val_accuracy'])\n",
    "plt.title('Complex LSTM Model Accuracy')\n",
    "plt.ylabel('accuracy')\n",
    "plt.xlabel('epoch')\n",
    "plt.legend(['train', 'validation'], loc='upper left')\n",
    "plt.show()\n",
    "\n",
    "# Plot loss\n",
    "plt.plot(history_complex_lstm.history['loss'])\n",
    "plt.plot(history_complex_lstm.history['val_loss'])\n",
    "plt.title('Complex LSTM Model Loss')\n",
    "plt.ylabel('loss')\n",
    "plt.xlabel('epoch')\n",
    "plt.legend(['train', 'validation'], loc='upper left')\n",
    "plt.show()\n"
   ]
  },
  {
   "cell_type": "code",
   "execution_count": 38,
   "metadata": {},
   "outputs": [
    {
     "name": "stdout",
     "output_type": "stream",
     "text": [
      "628/628 [==============================] - 8s 13ms/step - loss: 1.5320 - accuracy: 0.6028\n",
      "[1.5320408344268799, 0.6027697324752808]\n"
     ]
    }
   ],
   "source": [
    "results_complex_lstm = model_complex_lstm.evaluate(x_test, y_test)\n",
    "print(results_complex_lstm)\n"
   ]
  },
  {
   "cell_type": "code",
   "execution_count": 39,
   "metadata": {},
   "outputs": [
    {
     "name": "stdout",
     "output_type": "stream",
     "text": [
      "1/1 [==============================] - 1s 611ms/step\n",
      "1/1 [==============================] - 0s 29ms/step\n",
      "1/1 [==============================] - 0s 34ms/step\n",
      "1/1 [==============================] - 0s 30ms/step\n",
      "1/1 [==============================] - 0s 48ms/step\n",
      "1/1 [==============================] - 0s 23ms/step\n",
      "1/1 [==============================] - 0s 35ms/step\n",
      "1/1 [==============================] - 0s 30ms/step\n",
      "1/1 [==============================] - 0s 29ms/step\n",
      "1/1 [==============================] - 0s 36ms/step\n",
      "The next 10 characters after 'machin ' are predicted to be 'machin learn algo'\n"
     ]
    }
   ],
   "source": [
    "def predict_next_chars(model, input_text, chars_to_indices, indices_to_chars, maxlen, num_chars=10):\n",
    "    input_text = input_text.lower()\n",
    "    predicted_text = input_text\n",
    "\n",
    "    for _ in range(num_chars):\n",
    "        input_seq = np.zeros((1, maxlen, len(chars_to_indices)), dtype=bool)\n",
    "        for t, char in enumerate(input_text[-maxlen:]):\n",
    "            if char in chars_to_indices:\n",
    "                input_seq[0, t, chars_to_indices[char]] = 1\n",
    "\n",
    "        prediction = model.predict(input_seq)\n",
    "        next_index = np.argmax(prediction)\n",
    "        next_char = indices_to_chars[next_index]\n",
    "\n",
    "        predicted_text += next_char\n",
    "        input_text += next_char\n",
    "\n",
    "    return predicted_text\n",
    "\n",
    "input_text = \"machin \"\n",
    "predicted_chars_complex_lstm = predict_next_chars(model_complex_lstm, input_text, chars_to_indices, indices_to_chars, maxlen, num_chars=10)\n",
    "print(f\"The next 10 characters after '{input_text}' are predicted to be '{predicted_chars_complex_lstm}'\")\n"
   ]
  },
  {
   "cell_type": "markdown",
   "metadata": {},
   "source": [
    "# # # **SimpleRNN**"
   ]
  },
  {
   "cell_type": "code",
   "execution_count": 42,
   "metadata": {},
   "outputs": [
    {
     "name": "stdout",
     "output_type": "stream",
     "text": [
      "Model: \"sequential_4\"\n",
      "_________________________________________________________________\n",
      " Layer (type)                Output Shape              Param #   \n",
      "=================================================================\n",
      " simple_rnn_5 (SimpleRNN)    (None, 5, 256)            72704     \n",
      "                                                                 \n",
      " simple_rnn_6 (SimpleRNN)    (None, 5, 256)            131328    \n",
      "                                                                 \n",
      " simple_rnn_7 (SimpleRNN)    (None, 256)               131328    \n",
      "                                                                 \n",
      " dropout_5 (Dropout)         (None, 256)               0         \n",
      "                                                                 \n",
      " dense_4 (Dense)             (None, 27)                6939      \n",
      "                                                                 \n",
      "=================================================================\n",
      "Total params: 342,299\n",
      "Trainable params: 342,299\n",
      "Non-trainable params: 0\n",
      "_________________________________________________________________\n"
     ]
    }
   ],
   "source": [
    "from tensorflow.keras.layers import SimpleRNN, Dropout, Dense, Embedding\n",
    "from tensorflow.keras.optimizers import Adam\n",
    "from tensorflow.keras.regularizers import l2\n",
    "\n",
    "# Define a more optimized SimpleRNN model\n",
    "model_simple_rnn = tf.keras.Sequential([\n",
    "    SimpleRNN(256, return_sequences=True, input_shape=(maxlen, len(chars)),\n",
    "              dropout=0.2, recurrent_dropout=0.2, kernel_regularizer=l2(0.01)),\n",
    "    SimpleRNN(256, return_sequences=True, dropout=0.2, recurrent_dropout=0.2, kernel_regularizer=l2(0.01)),\n",
    "    SimpleRNN(256, dropout=0.2, recurrent_dropout=0.2, kernel_regularizer=l2(0.01)),\n",
    "    Dropout(0.3),\n",
    "    Dense(len(chars), activation='softmax')\n",
    "])\n",
    "\n",
    "# Compile the model with a lower learning rate\n",
    "optimizer = Adam(learning_rate=0.001)\n",
    "model_simple_rnn.compile(\n",
    "    loss='categorical_crossentropy',\n",
    "    optimizer=optimizer,\n",
    "    metrics=['accuracy']\n",
    ")\n",
    "\n",
    "# Summary of the new model\n",
    "model_simple_rnn.summary()\n"
   ]
  },
  {
   "cell_type": "code",
   "execution_count": 43,
   "metadata": {},
   "outputs": [
    {
     "name": "stdout",
     "output_type": "stream",
     "text": [
      "Epoch 1/50\n",
      "1255/1255 [==============================] - 30s 23ms/step - loss: 3.4921 - accuracy: 0.1929 - val_loss: 2.7582 - val_accuracy: 0.2144\n",
      "Epoch 2/50\n",
      "1255/1255 [==============================] - 27s 21ms/step - loss: 2.8039 - accuracy: 0.2008 - val_loss: 2.7415 - val_accuracy: 0.2151\n",
      "Epoch 3/50\n",
      "1255/1255 [==============================] - 28s 22ms/step - loss: 2.7885 - accuracy: 0.2048 - val_loss: 2.7269 - val_accuracy: 0.2129\n",
      "Epoch 4/50\n",
      "1255/1255 [==============================] - 26s 21ms/step - loss: 2.7747 - accuracy: 0.2053 - val_loss: 2.6838 - val_accuracy: 0.2279\n",
      "Epoch 5/50\n",
      "1255/1255 [==============================] - 25s 20ms/step - loss: 2.7643 - accuracy: 0.2069 - val_loss: 2.6970 - val_accuracy: 0.2160\n",
      "Epoch 6/50\n",
      "1255/1255 [==============================] - 25s 20ms/step - loss: 2.7571 - accuracy: 0.2064 - val_loss: 2.6885 - val_accuracy: 0.2275\n",
      "Epoch 7/50\n",
      "1255/1255 [==============================] - 25s 20ms/step - loss: 2.7501 - accuracy: 0.2080 - val_loss: 2.6682 - val_accuracy: 0.2170\n",
      "Epoch 8/50\n",
      "1255/1255 [==============================] - 24s 19ms/step - loss: 2.7430 - accuracy: 0.2098 - val_loss: 2.6864 - val_accuracy: 0.2333\n",
      "Epoch 9/50\n",
      "1255/1255 [==============================] - 26s 21ms/step - loss: 2.7401 - accuracy: 0.2103 - val_loss: 2.6571 - val_accuracy: 0.2271\n",
      "Epoch 10/50\n",
      "1255/1255 [==============================] - 30s 24ms/step - loss: 2.7385 - accuracy: 0.2098 - val_loss: 2.6883 - val_accuracy: 0.2234\n",
      "Epoch 11/50\n",
      "1255/1255 [==============================] - 27s 22ms/step - loss: 2.7346 - accuracy: 0.2101 - val_loss: 2.6535 - val_accuracy: 0.2279\n",
      "Epoch 12/50\n",
      "1255/1255 [==============================] - 29s 23ms/step - loss: 2.7305 - accuracy: 0.2106 - val_loss: 2.6630 - val_accuracy: 0.2338\n",
      "Epoch 13/50\n",
      "1255/1255 [==============================] - 27s 22ms/step - loss: 2.7291 - accuracy: 0.2107 - val_loss: 2.6715 - val_accuracy: 0.2197\n",
      "Epoch 14/50\n",
      "1255/1255 [==============================] - 27s 22ms/step - loss: 2.7270 - accuracy: 0.2103 - val_loss: 2.6552 - val_accuracy: 0.2412\n",
      "Epoch 15/50\n",
      "1255/1255 [==============================] - 25s 20ms/step - loss: 2.7265 - accuracy: 0.2115 - val_loss: 2.6432 - val_accuracy: 0.2353\n",
      "Epoch 16/50\n",
      "1255/1255 [==============================] - 27s 22ms/step - loss: 2.7258 - accuracy: 0.2090 - val_loss: 2.6439 - val_accuracy: 0.2288\n",
      "Epoch 17/50\n",
      "1255/1255 [==============================] - 29s 23ms/step - loss: 2.7214 - accuracy: 0.2096 - val_loss: 2.6654 - val_accuracy: 0.2307\n",
      "Epoch 18/50\n",
      "1255/1255 [==============================] - 30s 24ms/step - loss: 2.7228 - accuracy: 0.2099 - val_loss: 2.6427 - val_accuracy: 0.2256\n",
      "Epoch 19/50\n",
      "1255/1255 [==============================] - 28s 22ms/step - loss: 2.7213 - accuracy: 0.2103 - val_loss: 2.6579 - val_accuracy: 0.2288\n",
      "Epoch 20/50\n",
      "1255/1255 [==============================] - 29s 23ms/step - loss: 2.7190 - accuracy: 0.2108 - val_loss: 2.6606 - val_accuracy: 0.2263\n",
      "Epoch 21/50\n",
      "1255/1255 [==============================] - 27s 22ms/step - loss: 2.7192 - accuracy: 0.2106 - val_loss: 2.6587 - val_accuracy: 0.2339\n",
      "Epoch 22/50\n",
      "1255/1255 [==============================] - 24s 19ms/step - loss: 2.7191 - accuracy: 0.2121 - val_loss: 2.6486 - val_accuracy: 0.2314\n",
      "Epoch 23/50\n",
      "1255/1255 [==============================] - 27s 21ms/step - loss: 2.7182 - accuracy: 0.2103 - val_loss: 2.6423 - val_accuracy: 0.2328\n",
      "Epoch 24/50\n",
      "1255/1255 [==============================] - 28s 22ms/step - loss: 2.7169 - accuracy: 0.2118 - val_loss: 2.6412 - val_accuracy: 0.2260\n",
      "Epoch 25/50\n",
      "1255/1255 [==============================] - 28s 22ms/step - loss: 2.7175 - accuracy: 0.2113 - val_loss: 2.6496 - val_accuracy: 0.2315\n",
      "Epoch 26/50\n",
      "1255/1255 [==============================] - 29s 23ms/step - loss: 2.7184 - accuracy: 0.2135 - val_loss: 2.6655 - val_accuracy: 0.2391\n",
      "Epoch 27/50\n",
      "1255/1255 [==============================] - 28s 22ms/step - loss: 2.7180 - accuracy: 0.2113 - val_loss: 2.6481 - val_accuracy: 0.2146\n",
      "Epoch 28/50\n",
      "1255/1255 [==============================] - 29s 23ms/step - loss: 2.7176 - accuracy: 0.2110 - val_loss: 2.6583 - val_accuracy: 0.2146\n",
      "Epoch 29/50\n",
      "1255/1255 [==============================] - 28s 22ms/step - loss: 2.7151 - accuracy: 0.2113 - val_loss: 2.6413 - val_accuracy: 0.2328\n",
      "Epoch 30/50\n",
      "1255/1255 [==============================] - 26s 21ms/step - loss: 2.7160 - accuracy: 0.2125 - val_loss: 2.6390 - val_accuracy: 0.2263\n",
      "Epoch 31/50\n",
      "1255/1255 [==============================] - 27s 21ms/step - loss: 2.7167 - accuracy: 0.2151 - val_loss: 2.6637 - val_accuracy: 0.2284\n",
      "Epoch 32/50\n",
      "1255/1255 [==============================] - 25s 20ms/step - loss: 2.7094 - accuracy: 0.2182 - val_loss: 2.6206 - val_accuracy: 0.2415\n",
      "Epoch 33/50\n",
      "1255/1255 [==============================] - 26s 20ms/step - loss: 2.7080 - accuracy: 0.2172 - val_loss: 2.6224 - val_accuracy: 0.2445\n",
      "Epoch 34/50\n",
      "1255/1255 [==============================] - 27s 21ms/step - loss: 2.7044 - accuracy: 0.2201 - val_loss: 2.5932 - val_accuracy: 0.2484\n",
      "Epoch 35/50\n",
      "1255/1255 [==============================] - 29s 23ms/step - loss: 2.7043 - accuracy: 0.2208 - val_loss: 2.6206 - val_accuracy: 0.2391\n",
      "Epoch 36/50\n",
      "1255/1255 [==============================] - 28s 22ms/step - loss: 2.7007 - accuracy: 0.2206 - val_loss: 2.6309 - val_accuracy: 0.2248\n",
      "Epoch 37/50\n",
      "1255/1255 [==============================] - 28s 22ms/step - loss: 2.7011 - accuracy: 0.2193 - val_loss: 2.6368 - val_accuracy: 0.2510\n",
      "Epoch 38/50\n",
      "1255/1255 [==============================] - 28s 22ms/step - loss: 2.6966 - accuracy: 0.2206 - val_loss: 2.6187 - val_accuracy: 0.2395\n",
      "Epoch 39/50\n",
      "1255/1255 [==============================] - 28s 22ms/step - loss: 2.6984 - accuracy: 0.2179 - val_loss: 2.6191 - val_accuracy: 0.2553\n",
      "Epoch 40/50\n",
      "1255/1255 [==============================] - 28s 22ms/step - loss: 2.6971 - accuracy: 0.2202 - val_loss: 2.6290 - val_accuracy: 0.2543\n",
      "Epoch 41/50\n",
      "1255/1255 [==============================] - 30s 24ms/step - loss: 2.6987 - accuracy: 0.2195 - val_loss: 2.6137 - val_accuracy: 0.2355\n",
      "Epoch 42/50\n",
      "1255/1255 [==============================] - 29s 23ms/step - loss: 2.6955 - accuracy: 0.2212 - val_loss: 2.6029 - val_accuracy: 0.2373\n",
      "Epoch 43/50\n",
      "1255/1255 [==============================] - 29s 23ms/step - loss: 2.6973 - accuracy: 0.2198 - val_loss: 2.6224 - val_accuracy: 0.2506\n",
      "Epoch 44/50\n",
      "1255/1255 [==============================] - 29s 23ms/step - loss: 2.6976 - accuracy: 0.2206 - val_loss: 2.6095 - val_accuracy: 0.2518\n",
      "Epoch 45/50\n",
      "1255/1255 [==============================] - 30s 24ms/step - loss: 2.6960 - accuracy: 0.2195 - val_loss: 2.6011 - val_accuracy: 0.2467\n",
      "Epoch 46/50\n",
      "1255/1255 [==============================] - 26s 21ms/step - loss: 2.6960 - accuracy: 0.2221 - val_loss: 2.6268 - val_accuracy: 0.2326\n",
      "Epoch 47/50\n",
      "1255/1255 [==============================] - 24s 19ms/step - loss: 2.6947 - accuracy: 0.2218 - val_loss: 2.6023 - val_accuracy: 0.2457\n",
      "Epoch 48/50\n",
      "1255/1255 [==============================] - 25s 20ms/step - loss: 2.6968 - accuracy: 0.2195 - val_loss: 2.6438 - val_accuracy: 0.2525\n",
      "Epoch 49/50\n",
      "1255/1255 [==============================] - 25s 20ms/step - loss: 2.6962 - accuracy: 0.2217 - val_loss: 2.6403 - val_accuracy: 0.2421\n",
      "Epoch 50/50\n",
      "1255/1255 [==============================] - 26s 21ms/step - loss: 2.6951 - accuracy: 0.2213 - val_loss: 2.6307 - val_accuracy: 0.2503\n"
     ]
    },
    {
     "data": {
      "image/png": "[encoded data removed]",
      "text/plain": [
       "<Figure size 640x480 with 1 Axes>"
      ]
     },
     "metadata": {},
     "output_type": "display_data"
    },
    {
     "data": {
      "image/png": "[encoded data removed]",
      "text/plain": [
       "<Figure size 640x480 with 1 Axes>"
      ]
     },
     "metadata": {},
     "output_type": "display_data"
    },
    {
     "name": "stdout",
     "output_type": "stream",
     "text": [
      "628/628 [==============================] - 2s 4ms/step - loss: 2.6307 - accuracy: 0.2503\n",
      "Testing results for SimpleRNN model: [2.630737781524658, 0.2502739727497101]\n"
     ]
    }
   ],
   "source": [
    "# Train the new SimpleRNN model\n",
    "history_simple_rnn = model_simple_rnn.fit(x_train, y_train, batch_size=64, epochs=50, validation_data=(x_test, y_test))\n",
    "\n",
    "# Plot accuracy\n",
    "plt.plot(history_simple_rnn.history['accuracy'])\n",
    "plt.plot(history_simple_rnn.history['val_accuracy'])\n",
    "plt.title('SimpleRNN Model Accuracy')\n",
    "plt.ylabel('accuracy')\n",
    "plt.xlabel('epoch')\n",
    "plt.legend(['train', 'validation'], loc='upper left')\n",
    "plt.show()\n",
    "\n",
    "# Plot loss\n",
    "plt.plot(history_simple_rnn.history['loss'])\n",
    "plt.plot(history_simple_rnn.history['val_loss'])\n",
    "plt.title('SimpleRNN Model Loss')\n",
    "plt.ylabel('loss')\n",
    "plt.xlabel('epoch')\n",
    "plt.legend(['train', 'validation'], loc='upper left')\n",
    "plt.show()\n",
    "\n",
    "# Evaluate the new model\n",
    "results_simple_rnn = model_simple_rnn.evaluate(x_test, y_test)\n",
    "print('Testing results for SimpleRNN model:', results_simple_rnn)\n"
   ]
  },
  {
   "cell_type": "code",
   "execution_count": 46,
   "metadata": {},
   "outputs": [
    {
     "name": "stdout",
     "output_type": "stream",
     "text": [
      "1/1 [==============================] - 0s 25ms/step\n",
      "1/1 [==============================] - 0s 24ms/step\n",
      "1/1 [==============================] - 0s 22ms/step\n",
      "1/1 [==============================] - 0s 22ms/step\n",
      "1/1 [==============================] - 0s 23ms/step\n",
      "1/1 [==============================] - 0s 23ms/step\n",
      "1/1 [==============================] - 0s 18ms/step\n",
      "1/1 [==============================] - 0s 20ms/step\n",
      "1/1 [==============================] - 0s 34ms/step\n",
      "1/1 [==============================] - 0s 25ms/step\n",
      "The predicted sequence after 'machin ' is 'machin tere sert '\n"
     ]
    }
   ],
   "source": [
    "def predict_next_chars(model, input_text, chars_to_indices, indices_to_chars, maxlen, num_chars=10):\n",
    "    input_text = input_text.lower()\n",
    "    generated_text = input_text\n",
    "\n",
    "    for _ in range(num_chars):\n",
    "        input_seq = np.zeros((1, maxlen, len(chars_to_indices)), dtype=bool)\n",
    "        for t, char in enumerate(generated_text[-maxlen:]):\n",
    "            if char in chars_to_indices:\n",
    "                input_seq[0, t, chars_to_indices[char]] = 1\n",
    "\n",
    "        prediction = model.predict(input_seq)\n",
    "        next_index = np.argmax(prediction)\n",
    "        next_char = indices_to_chars[next_index]\n",
    "\n",
    "        generated_text += next_char\n",
    "\n",
    "    return generated_text\n",
    "\n",
    "# Define the input sequence\n",
    "input_text = \"machin \"\n",
    "predicted_sequence = predict_next_chars(model_simple_rnn, input_text, chars_to_indices, indices_to_chars, maxlen, num_chars=10)\n",
    "\n",
    "print(f\"The predicted sequence after '{input_text}' is '{predicted_sequence}'\")\n"
   ]
  }
 ],
 "metadata": {
  "kaggle": {
   "accelerator": "nvidiaTeslaT4",
   "dataSources": [],
   "dockerImageVersionId": 30699,
   "isGpuEnabled": true,
   "isInternetEnabled": true,
   "language": "python",
   "sourceType": "notebook"
  },
  "kernelspec": {
   "display_name": "Python 3 (ipykernel)",
   "language": "python",
   "name": "python3"
  },
  "language_info": {
   "codemirror_mode": {
    "name": "ipython",
    "version": 3
   },
   "file_extension": ".py",
   "mimetype": "text/x-python",
   "name": "python",
   "nbconvert_exporter": "python",
   "pygments_lexer": "ipython3",
   "version": "3.10.14"
  }
 },
 "nbformat": 4,
 "nbformat_minor": 4
}
